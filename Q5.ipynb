{
 "cells": [
  {
   "cell_type": "code",
   "execution_count": 1,
   "metadata": {
    "collapsed": true
   },
   "outputs": [
    {
     "name": "stderr",
     "output_type": "stream",
     "text": [
      "C:\\Users\\FEIJINTI\\AppData\\Local\\Temp\\ipykernel_23476\\1494544685.py:5: FutureWarning: Inferring datetime64[ns] from data containing strings is deprecated and will be removed in a future version. To retain the old behavior explicitly pass Series(data, dtype=datetime64[ns])\n",
      "  data = pd.read_excel(excel_file)\n"
     ]
    }
   ],
   "source": [
    "from snownlp import SnowNLP\n",
    "import pandas as pd\n",
    "\n",
    "excel_file = 'B题-附件1 某校课堂教学评价数据.xls'  #导入文件\n",
    "data = pd.read_excel(excel_file)"
   ]
  },
  {
   "cell_type": "code",
   "execution_count": 2,
   "outputs": [],
   "source": [
    "dataframe_1 = data.loc[(data['Unnamed: 5'] == '初职'), ['教师教学总体评价及改进意见']]\n",
    "dataframe_2 = data.loc[(data['Unnamed: 5'] == '中职'), ['教师教学总体评价及改进意见']]\n",
    "dataframe_3 = data.loc[(data['Unnamed: 5'] == '副高'), ['教师教学总体评价及改进意见']]\n",
    "dataframe_4 = data.loc[(data['Unnamed: 5'] == '正高'), ['教师教学总体评价及改进意见']]"
   ],
   "metadata": {
    "collapsed": false,
    "pycharm": {
     "name": "#%%\n"
    }
   }
  },
  {
   "cell_type": "code",
   "execution_count": 3,
   "outputs": [],
   "source": [
    "q1 = []\n",
    "for i in dataframe_1.iloc[:,0]:\n",
    "    s = SnowNLP(i)\n",
    "    if (s.sentiments > 0.5):\n",
    "        q1.append(1)\n",
    "    else:\n",
    "        q1.append(0)\n",
    "c1 = sum(q1)/len(q1)"
   ],
   "metadata": {
    "collapsed": false,
    "pycharm": {
     "name": "#%%\n"
    }
   }
  },
  {
   "cell_type": "code",
   "execution_count": 4,
   "outputs": [],
   "source": [
    "q1 = []\n",
    "for i in dataframe_2.iloc[:,0]:\n",
    "    s = SnowNLP(i)\n",
    "    if (s.sentiments > 0.5):\n",
    "        q1.append(1)\n",
    "    else:\n",
    "        q1.append(0)\n",
    "c2 = sum(q1)/len(q1)"
   ],
   "metadata": {
    "collapsed": false,
    "pycharm": {
     "name": "#%%\n"
    }
   }
  },
  {
   "cell_type": "code",
   "execution_count": 5,
   "outputs": [],
   "source": [
    "q1 = []\n",
    "for i in dataframe_3.iloc[:,0]:\n",
    "    s = SnowNLP(i)\n",
    "    if (s.sentiments > 0.5):\n",
    "        q1.append(1)\n",
    "    else:\n",
    "        q1.append(0)\n",
    "c3 = sum(q1)/len(q1)"
   ],
   "metadata": {
    "collapsed": false,
    "pycharm": {
     "name": "#%%\n"
    }
   }
  },
  {
   "cell_type": "code",
   "execution_count": 6,
   "outputs": [],
   "source": [
    "q1 = []\n",
    "for i in dataframe_4.iloc[:,0]:\n",
    "    s = SnowNLP(i)\n",
    "    if (s.sentiments > 0.5):\n",
    "        q1.append(1)\n",
    "    else:\n",
    "        q1.append(0)\n",
    "c4 = sum(q1)/len(q1)"
   ],
   "metadata": {
    "collapsed": false,
    "pycharm": {
     "name": "#%%\n"
    }
   }
  },
  {
   "cell_type": "code",
   "execution_count": 6,
   "outputs": [],
   "source": [],
   "metadata": {
    "collapsed": false,
    "pycharm": {
     "name": "#%%\n"
    }
   }
  }
 ],
 "metadata": {
  "kernelspec": {
   "display_name": "Python 3",
   "language": "python",
   "name": "python3"
  },
  "language_info": {
   "codemirror_mode": {
    "name": "ipython",
    "version": 2
   },
   "file_extension": ".py",
   "mimetype": "text/x-python",
   "name": "python",
   "nbconvert_exporter": "python",
   "pygments_lexer": "ipython2",
   "version": "2.7.6"
  }
 },
 "nbformat": 4,
 "nbformat_minor": 0
}
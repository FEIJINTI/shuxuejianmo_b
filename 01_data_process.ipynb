{
 "cells": [
  {
   "cell_type": "code",
   "execution_count": 1,
   "metadata": {
    "collapsed": true
   },
   "outputs": [],
   "source": [
    "import pandas as pd"
   ]
  },
  {
   "cell_type": "code",
   "execution_count": 20,
   "outputs": [
    {
     "name": "stderr",
     "output_type": "stream",
     "text": [
      "C:\\Users\\FEIJINTI\\AppData\\Local\\Temp\\ipykernel_17708\\3643497314.py:2: FutureWarning: Inferring datetime64[ns] from data containing strings is deprecated and will be removed in a future version. To retain the old behavior explicitly pass Series(data, dtype=datetime64[ns])\n",
      "  data = pd.read_excel(excel_file)\n"
     ]
    }
   ],
   "source": [
    "excel_file = 'B题-附件1 某校课堂教学评价数据.xls'        #导入文件\n",
    "data = pd.read_excel(excel_file)"
   ],
   "metadata": {
    "collapsed": false,
    "pycharm": {
     "name": "#%%\n"
    }
   }
  },
  {
   "cell_type": "code",
   "execution_count": 21,
   "outputs": [],
   "source": [
    "dataframe_1 = data.loc[(data['教师教学综合评价'] == '一般')|(data['学生学习综合评价'] == '一般'), ['教师教学总体评价及改进意见']]"
   ],
   "metadata": {
    "collapsed": false,
    "pycharm": {
     "name": "#%%\n"
    }
   }
  },
  {
   "cell_type": "code",
   "execution_count": 22,
   "outputs": [],
   "source": [
    "neg_list =[]\n",
    "with open(\"neg.txt\", \"w\", encoding=\"utf-8\") as f:\n",
    "    for i in dataframe_1.iloc[:,0]:\n",
    "        neg_list.append(i)\n",
    "    f.write(\"\\n\".join(neg_list))"
   ],
   "metadata": {
    "collapsed": false,
    "pycharm": {
     "name": "#%%\n"
    }
   }
  },
  {
   "cell_type": "code",
   "execution_count": 23,
   "outputs": [],
   "source": [
    "dataframe_2 = data.loc[(data['教师教学综合评价'] == '优秀')&(data['学生学习综合评价'] == '优秀'), ['教师教学总体评价及改进意见']]"
   ],
   "metadata": {
    "collapsed": false,
    "pycharm": {
     "name": "#%%\n"
    }
   }
  },
  {
   "cell_type": "code",
   "execution_count": 24,
   "outputs": [],
   "source": [
    "pos_list =[]\n",
    "with open(\"pos.txt\", \"w\", encoding=\"utf-8\") as f:\n",
    "    for i in dataframe_2.iloc[:,0]:\n",
    "        pos_list.append(i)\n",
    "    f.write(\"\\n\".join(pos_list))"
   ],
   "metadata": {
    "collapsed": false,
    "pycharm": {
     "name": "#%%\n"
    }
   }
  },
  {
   "cell_type": "code",
   "execution_count": 2,
   "outputs": [],
   "source": [
    "from snownlp import sentiment\n",
    "sentiment.train(\"neg.txt\",\"pos.txt\")\n",
    "sentiment.save(\"sentiment.marshal\")"
   ],
   "metadata": {
    "collapsed": false,
    "pycharm": {
     "name": "#%%\n"
    }
   }
  },
  {
   "cell_type": "code",
   "execution_count": 25,
   "outputs": [],
   "source": [],
   "metadata": {
    "collapsed": false,
    "pycharm": {
     "name": "#%%\n"
    }
   }
  }
 ],
 "metadata": {
  "kernelspec": {
   "display_name": "Python 3",
   "language": "python",
   "name": "python3"
  },
  "language_info": {
   "codemirror_mode": {
    "name": "ipython",
    "version": 2
   },
   "file_extension": ".py",
   "mimetype": "text/x-python",
   "name": "python",
   "nbconvert_exporter": "python",
   "pygments_lexer": "ipython2",
   "version": "2.7.6"
  }
 },
 "nbformat": 4,
 "nbformat_minor": 0
}
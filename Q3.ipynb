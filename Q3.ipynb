{
 "cells": [
  {
   "cell_type": "code",
   "execution_count": 1,
   "metadata": {
    "collapsed": true
   },
   "outputs": [
    {
     "name": "stderr",
     "output_type": "stream",
     "text": [
      "C:\\Users\\FEIJINTI\\AppData\\Local\\Temp\\ipykernel_18832\\1494544685.py:5: FutureWarning: Inferring datetime64[ns] from data containing strings is deprecated and will be removed in a future version. To retain the old behavior explicitly pass Series(data, dtype=datetime64[ns])\n",
      "  data = pd.read_excel(excel_file)\n"
     ]
    }
   ],
   "source": [
    "from snownlp import SnowNLP\n",
    "import pandas as pd\n",
    "\n",
    "excel_file = 'B题-附件1 某校课堂教学评价数据.xls'  #导入文件\n",
    "data = pd.read_excel(excel_file)"
   ]
  },
  {
   "cell_type": "code",
   "execution_count": 2,
   "outputs": [],
   "source": [
    "dataframe_1 = data.loc[(data['评价专家'] == '专家002'), ['教师教学总体评价及改进意见','教师教学综合评价','学生学习综合评价']]\n",
    "dataframe_2 = data.loc[(data['评价专家'] == '专家003'), ['教师教学总体评价及改进意见','教师教学综合评价','学生学习综合评价']]\n",
    "dataframe_3 = data.loc[(data['评价专家'] == '专家005'), ['教师教学总体评价及改进意见','教师教学综合评价','学生学习综合评价']]\n",
    "dataframe_4 = data.loc[(data['评价专家'] == '专家006'), ['教师教学总体评价及改进意见','教师教学综合评价','学生学习综合评价']]\n",
    "dataframe_5 = data.loc[(data['评价专家'] == '专家012'), ['教师教学总体评价及改进意见','教师教学综合评价','学生学习综合评价']]\n",
    "dataframe_6 = data.loc[(data['评价专家'] == '专家025'), ['教师教学总体评价及改进意见','教师教学综合评价','学生学习综合评价']]\n",
    "dataframe_7 = data.loc[(data['评价专家'] == '专家027'), ['教师教学总体评价及改进意见','教师教学综合评价','学生学习综合评价']]\n",
    "dataframe_8 = data.loc[(data['评价专家'] == '专家028'), ['教师教学总体评价及改进意见','教师教学综合评价','学生学习综合评价']]\n",
    "dataframe_9 = data.loc[(data['评价专家'] == '专家048'), ['教师教学总体评价及改进意见','教师教学综合评价','学生学习综合评价']]"
   ],
   "metadata": {
    "collapsed": false,
    "pycharm": {
     "name": "#%%\n"
    }
   }
  },
  {
   "cell_type": "code",
   "execution_count": 3,
   "outputs": [],
   "source": [
    "q1 = []\n",
    "q2 = []\n",
    "q3 = []\n",
    "for i in dataframe_1.iloc[:,0]:\n",
    "    s = SnowNLP(i)\n",
    "    if s.sentiments>0.5:\n",
    "        q1.append(1)\n",
    "    else:\n",
    "        q1.append(0)\n",
    "for i in dataframe_1.iloc[:,1]:\n",
    "    if (i == \"优秀\"):\n",
    "        q2.append(1)\n",
    "    else:\n",
    "        q2.append(0)\n",
    "for i in dataframe_1.iloc[:,2]:\n",
    "    if (i == \"优秀\"):\n",
    "        q3.append(1)\n",
    "    else:\n",
    "        q3.append(0)"
   ],
   "metadata": {
    "collapsed": false,
    "pycharm": {
     "name": "#%%\n"
    }
   }
  },
  {
   "cell_type": "code",
   "execution_count": 4,
   "outputs": [],
   "source": [
    "q4 = []\n",
    "for i in range(len(q1)):\n",
    "    if (q1[i] == q2[i])|(q1[i] == q3[i]):\n",
    "        q4.append(1)\n",
    "    else:\n",
    "        q4.append(0)\n",
    "a1 = sum(q4)/len(q4)"
   ],
   "metadata": {
    "collapsed": false,
    "pycharm": {
     "name": "#%%\n"
    }
   }
  },
  {
   "cell_type": "code",
   "execution_count": 5,
   "outputs": [],
   "source": [
    "q1 = []\n",
    "q2 = []\n",
    "q3 = []\n",
    "for i in dataframe_2.iloc[:, 0]:\n",
    "    s = SnowNLP(i)\n",
    "    if s.sentiments > 0.5:\n",
    "        q1.append(1)\n",
    "    else:\n",
    "        q1.append(0)\n",
    "for i in dataframe_2.iloc[:, 1]:\n",
    "    if (i == \"优秀\"):\n",
    "        q2.append(1)\n",
    "    else:\n",
    "        q2.append(0)\n",
    "for i in dataframe_2.iloc[:, 2]:\n",
    "    if (i == \"优秀\"):\n",
    "        q3.append(1)\n",
    "    else:\n",
    "        q3.append(0)\n",
    "q4 = []\n",
    "for i in range(len(q1)):\n",
    "    if (q1[i] == q2[i]) | (q1[i] == q3[i]):\n",
    "        q4.append(1)\n",
    "    else:\n",
    "        q4.append(0)\n",
    "a2 = sum(q4) / len(q4)"
   ],
   "metadata": {
    "collapsed": false,
    "pycharm": {
     "name": "#%%\n"
    }
   }
  },
  {
   "cell_type": "code",
   "execution_count": 6,
   "outputs": [],
   "source": [
    "q1 = []\n",
    "q2 = []\n",
    "q3 = []\n",
    "for i in dataframe_3.iloc[:, 0]:\n",
    "    s = SnowNLP(i)\n",
    "    if s.sentiments > 0.5:\n",
    "        q1.append(1)\n",
    "    else:\n",
    "        q1.append(0)\n",
    "for i in dataframe_3.iloc[:, 1]:\n",
    "    if (i == \"优秀\"):\n",
    "        q2.append(1)\n",
    "    else:\n",
    "        q2.append(0)\n",
    "for i in dataframe_3.iloc[:, 2]:\n",
    "    if (i == \"优秀\"):\n",
    "        q3.append(1)\n",
    "    else:\n",
    "        q3.append(0)\n",
    "q4 = []\n",
    "for i in range(len(q1)):\n",
    "    if (q1[i] == q2[i]) | (q1[i] == q3[i]):\n",
    "        q4.append(1)\n",
    "    else:\n",
    "        q4.append(0)\n",
    "a3 = sum(q4) / len(q4)"
   ],
   "metadata": {
    "collapsed": false,
    "pycharm": {
     "name": "#%%\n"
    }
   }
  },
  {
   "cell_type": "code",
   "execution_count": 7,
   "outputs": [],
   "source": [
    "q1 = []\n",
    "q2 = []\n",
    "q3 = []\n",
    "for i in dataframe_4.iloc[:, 0]:\n",
    "    s = SnowNLP(i)\n",
    "    if s.sentiments > 0.5:\n",
    "        q1.append(1)\n",
    "    else:\n",
    "        q1.append(0)\n",
    "for i in dataframe_4.iloc[:, 1]:\n",
    "    if (i == \"优秀\"):\n",
    "        q2.append(1)\n",
    "    else:\n",
    "        q2.append(0)\n",
    "for i in dataframe_4.iloc[:, 2]:\n",
    "    if (i == \"优秀\"):\n",
    "        q3.append(1)\n",
    "    else:\n",
    "        q3.append(0)\n",
    "q4 = []\n",
    "for i in range(len(q1)):\n",
    "    if (q1[i] == q2[i]) | (q1[i] == q3[i]):\n",
    "        q4.append(1)\n",
    "    else:\n",
    "        q4.append(0)\n",
    "a4 = sum(q4) / len(q4)"
   ],
   "metadata": {
    "collapsed": false,
    "pycharm": {
     "name": "#%%\n"
    }
   }
  },
  {
   "cell_type": "code",
   "execution_count": 8,
   "outputs": [],
   "source": [
    "q1 = []\n",
    "q2 = []\n",
    "q3 = []\n",
    "for i in dataframe_5.iloc[:, 0]:\n",
    "    s = SnowNLP(i)\n",
    "    if s.sentiments > 0.5:\n",
    "        q1.append(1)\n",
    "    else:\n",
    "        q1.append(0)\n",
    "for i in dataframe_5.iloc[:, 1]:\n",
    "    if (i == \"优秀\"):\n",
    "        q2.append(1)\n",
    "    else:\n",
    "        q2.append(0)\n",
    "for i in dataframe_5.iloc[:, 2]:\n",
    "    if (i == \"优秀\"):\n",
    "        q3.append(1)\n",
    "    else:\n",
    "        q3.append(0)\n",
    "q4 = []\n",
    "for i in range(len(q1)):\n",
    "    if (q1[i] == q2[i]) | (q1[i] == q3[i]):\n",
    "        q4.append(1)\n",
    "    else:\n",
    "        q4.append(0)\n",
    "a5 = sum(q4) / len(q4)"
   ],
   "metadata": {
    "collapsed": false,
    "pycharm": {
     "name": "#%%\n"
    }
   }
  },
  {
   "cell_type": "code",
   "execution_count": 9,
   "outputs": [],
   "source": [
    "q1 = []\n",
    "q2 = []\n",
    "q3 = []\n",
    "for i in dataframe_6.iloc[:, 0]:\n",
    "    s = SnowNLP(i)\n",
    "    if s.sentiments > 0.5:\n",
    "        q1.append(1)\n",
    "    else:\n",
    "        q1.append(0)\n",
    "for i in dataframe_6.iloc[:, 1]:\n",
    "    if (i == \"优秀\"):\n",
    "        q2.append(1)\n",
    "    else:\n",
    "        q2.append(0)\n",
    "for i in dataframe_6.iloc[:, 2]:\n",
    "    if (i == \"优秀\"):\n",
    "        q3.append(1)\n",
    "    else:\n",
    "        q3.append(0)\n",
    "q4 = []\n",
    "for i in range(len(q1)):\n",
    "    if (q1[i] == q2[i]) | (q1[i] == q3[i]):\n",
    "        q4.append(1)\n",
    "    else:\n",
    "        q4.append(0)\n",
    "a6 = sum(q4) / len(q4)"
   ],
   "metadata": {
    "collapsed": false,
    "pycharm": {
     "name": "#%%\n"
    }
   }
  },
  {
   "cell_type": "code",
   "execution_count": 10,
   "outputs": [],
   "source": [
    "q1 = []\n",
    "q2 = []\n",
    "q3 = []\n",
    "for i in dataframe_7.iloc[:, 0]:\n",
    "    s = SnowNLP(i)\n",
    "    if s.sentiments > 0.5:\n",
    "        q1.append(1)\n",
    "    else:\n",
    "        q1.append(0)\n",
    "for i in dataframe_7.iloc[:, 1]:\n",
    "    if (i == \"优秀\"):\n",
    "        q2.append(1)\n",
    "    else:\n",
    "        q2.append(0)\n",
    "for i in dataframe_7.iloc[:, 2]:\n",
    "    if (i == \"优秀\"):\n",
    "        q3.append(1)\n",
    "    else:\n",
    "        q3.append(0)\n",
    "q4 = []\n",
    "for i in range(len(q1)):\n",
    "    if (q1[i] == q2[i]) | (q1[i] == q3[i]):\n",
    "        q4.append(1)\n",
    "    else:\n",
    "        q4.append(0)\n",
    "a7 = sum(q4) / len(q4)"
   ],
   "metadata": {
    "collapsed": false,
    "pycharm": {
     "name": "#%%\n"
    }
   }
  },
  {
   "cell_type": "code",
   "execution_count": 11,
   "outputs": [],
   "source": [
    "q1 = []\n",
    "q2 = []\n",
    "q3 = []\n",
    "for i in dataframe_8.iloc[:, 0]:\n",
    "    s = SnowNLP(i)\n",
    "    if s.sentiments > 0.5:\n",
    "        q1.append(1)\n",
    "    else:\n",
    "        q1.append(0)\n",
    "for i in dataframe_8.iloc[:, 1]:\n",
    "    if (i == \"优秀\"):\n",
    "        q2.append(1)\n",
    "    else:\n",
    "        q2.append(0)\n",
    "for i in dataframe_8.iloc[:, 2]:\n",
    "    if (i == \"优秀\"):\n",
    "        q3.append(1)\n",
    "    else:\n",
    "        q3.append(0)\n",
    "q4 = []\n",
    "for i in range(len(q1)):\n",
    "    if (q1[i] == q2[i]) | (q1[i] == q3[i]):\n",
    "        q4.append(1)\n",
    "    else:\n",
    "        q4.append(0)\n",
    "a8 = sum(q4) / len(q4)"
   ],
   "metadata": {
    "collapsed": false,
    "pycharm": {
     "name": "#%%\n"
    }
   }
  },
  {
   "cell_type": "code",
   "execution_count": 12,
   "outputs": [],
   "source": [
    "q1 = []\n",
    "q2 = []\n",
    "q3 = []\n",
    "for i in dataframe_9.iloc[:, 0]:\n",
    "    s = SnowNLP(i)\n",
    "    if s.sentiments > 0.5:\n",
    "        q1.append(1)\n",
    "    else:\n",
    "        q1.append(0)\n",
    "for i in dataframe_9.iloc[:, 1]:\n",
    "    if (i == \"优秀\"):\n",
    "        q2.append(1)\n",
    "    else:\n",
    "        q2.append(0)\n",
    "for i in dataframe_9.iloc[:, 2]:\n",
    "    if (i == \"优秀\"):\n",
    "        q3.append(1)\n",
    "    else:\n",
    "        q3.append(0)\n",
    "q4 = []\n",
    "for i in range(len(q1)):\n",
    "    if (q1[i] == q2[i]) | (q1[i] == q3[i]):\n",
    "        q4.append(1)\n",
    "    else:\n",
    "        q4.append(0)\n",
    "a9 = sum(q4) / len(q4)"
   ],
   "metadata": {
    "collapsed": false,
    "pycharm": {
     "name": "#%%\n"
    }
   }
  },
  {
   "cell_type": "code",
   "execution_count": 12,
   "outputs": [],
   "source": [],
   "metadata": {
    "collapsed": false,
    "pycharm": {
     "name": "#%%\n"
    }
   }
  }
 ],
 "metadata": {
  "kernelspec": {
   "display_name": "Python 3",
   "language": "python",
   "name": "python3"
  },
  "language_info": {
   "codemirror_mode": {
    "name": "ipython",
    "version": 2
   },
   "file_extension": ".py",
   "mimetype": "text/x-python",
   "name": "python",
   "nbconvert_exporter": "python",
   "pygments_lexer": "ipython2",
   "version": "2.7.6"
  }
 },
 "nbformat": 4,
 "nbformat_minor": 0
}
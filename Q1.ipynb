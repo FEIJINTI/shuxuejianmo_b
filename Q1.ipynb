{
 "cells": [
  {
   "cell_type": "code",
   "execution_count": 1,
   "outputs": [
    {
     "name": "stdout",
     "output_type": "stream",
     "text": [
      "0.9999999999966378\n",
      "0.9999999999944322\n"
     ]
    },
    {
     "name": "stderr",
     "output_type": "stream",
     "text": [
      "C:\\Users\\FEIJINTI\\AppData\\Local\\Temp\\ipykernel_33028\\99447760.py:5: FutureWarning: Inferring datetime64[ns] from data containing strings is deprecated and will be removed in a future version. To retain the old behavior explicitly pass Series(data, dtype=datetime64[ns])\n",
      "  data = pd.read_excel(excel_file)\n"
     ]
    }
   ],
   "source": [
    "from snownlp import SnowNLP\n",
    "import pandas as pd\n",
    "\n",
    "excel_file = 'B题-附件1 某校课堂教学评价数据.xls'  #导入文件\n",
    "data = pd.read_excel(excel_file)\n",
    "import os\n",
    "\n",
    "# 情感分析\n",
    "text1 = \"本次课教师完全采用粉笔加黑板的传统教学模式，教师准备认真，对教学内容娴熟，对问题的阐述深入浅出，启发性比较强，灵活运用教学组织形式，教学过程流畅，板书设计规范，布局合理。问题是有关教学文件填写不太规范，信息量偏少些。建议适度加大信息两，规范填写教学文件。\"\n",
    "text2 = \"教师对“多媒体技术基础”教学内容的准备教充分，对基本概念和基本理论的讲解把握准确，讲解思路清晰，层次分明，注意理论联系实际，重难点突出，分析比较透彻，板书规范合理。存在的问题是个别PPT播放不分层次、段落显示，缺少互动交流。建议合理运用多媒体课件，加强互动环节的设置和交流。\"\n",
    "\n",
    "\n",
    "s1 = SnowNLP(text1)\n",
    "s2 = SnowNLP(text2)\n",
    "print(s1.sentiments)\n",
    "print(s2.sentiments)"
   ],
   "metadata": {
    "collapsed": false,
    "pycharm": {
     "name": "#%%\n"
    }
   }
  },
  {
   "cell_type": "code",
   "execution_count": 16,
   "outputs": [],
   "source": [
    "dataframe_1 = data.loc[4450:4469, ['教师教学总体评价及改进意见']]"
   ],
   "metadata": {
    "collapsed": false,
    "pycharm": {
     "name": "#%%\n"
    }
   }
  },
  {
   "cell_type": "code",
   "execution_count": 18,
   "outputs": [],
   "source": [
    "q1 = []\n",
    "for i in dataframe_1.iloc[:,0]:\n",
    "    s = SnowNLP(i)\n",
    "    q1.append(s.sentiments)"
   ],
   "metadata": {
    "collapsed": false,
    "pycharm": {
     "name": "#%%\n"
    }
   }
  },
  {
   "cell_type": "code",
   "execution_count": 25,
   "outputs": [
    {
     "name": "stdout",
     "output_type": "stream",
     "text": [
      "             one\n",
      "0   9.954534e-01\n",
      "1   2.720706e-01\n",
      "2   1.551439e-01\n",
      "3   1.054694e-02\n",
      "4   9.690421e-01\n",
      "5   1.076301e-03\n",
      "6   4.105966e-04\n",
      "7   6.794579e-01\n",
      "8   5.294060e-01\n",
      "9   1.874925e-02\n",
      "10  6.794565e-13\n",
      "11  9.999996e-01\n",
      "12  2.325029e-12\n",
      "13  8.726489e-01\n",
      "14  4.998720e-02\n",
      "15  9.991414e-01\n",
      "16  9.729419e-01\n",
      "17  9.998511e-01\n",
      "18  9.999510e-01\n",
      "19  3.613749e-02\n"
     ]
    }
   ],
   "source": [
    "name=['one']\n",
    "test=pd.DataFrame(columns=name,data=q1)#数据有三列，列名分别为one,two,three\n",
    "print(test)\n",
    "test.to_csv('q1.csv',encoding='gbk')"
   ],
   "metadata": {
    "collapsed": false,
    "pycharm": {
     "name": "#%%\n"
    }
   }
  },
  {
   "cell_type": "code",
   "execution_count": null,
   "outputs": [],
   "source": [],
   "metadata": {
    "collapsed": false,
    "pycharm": {
     "name": "#%%\n"
    }
   }
  }
 ],
 "metadata": {
  "kernelspec": {
   "display_name": "Python 3",
   "language": "python",
   "name": "python3"
  },
  "language_info": {
   "codemirror_mode": {
    "name": "ipython",
    "version": 2
   },
   "file_extension": ".py",
   "mimetype": "text/x-python",
   "name": "python",
   "nbconvert_exporter": "python",
   "pygments_lexer": "ipython2",
   "version": "2.7.6"
  }
 },
 "nbformat": 4,
 "nbformat_minor": 0
}
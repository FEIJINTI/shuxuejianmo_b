{
 "cells": [
  {
   "cell_type": "code",
   "execution_count": 14,
   "outputs": [
    {
     "name": "stdout",
     "output_type": "stream",
     "text": [
      "0.020548494128469486\n",
      "0.999999999994869\n"
     ]
    },
    {
     "name": "stderr",
     "output_type": "stream",
     "text": [
      "C:\\Users\\FEIJINTI\\AppData\\Local\\Temp\\ipykernel_27864\\292949896.py:5: FutureWarning: Inferring datetime64[ns] from data containing strings is deprecated and will be removed in a future version. To retain the old behavior explicitly pass Series(data, dtype=datetime64[ns])\n",
      "  data = pd.read_excel(excel_file)\n"
     ]
    }
   ],
   "source": [
    "from snownlp import SnowNLP\n",
    "import pandas as pd\n",
    "\n",
    "excel_file = 'B题-附件1 某校课堂教学评价数据.xls'  #导入文件\n",
    "data = pd.read_excel(excel_file)\n",
    "import os\n",
    "\n",
    "# 情感分析\n",
    "text1 = \"讲述熟练，但重点不够突出，显得较散。建议：1、突出重点讲述。2、多启发学生交流，加强效果。\"\n",
    "text2 = \"教：教师教学态度端正、严谨，敬业精神强，对所授内容娴熟，就数字图像与视频压缩编码标准相关知识，讲授逻辑严谨，条理清晰。学：学生学习态度端正，不仅听课认真，而且能上讲台演示。建议：进一步讲授其实践意义。\"\n",
    "\n",
    "\n",
    "s1 = SnowNLP(text1)\n",
    "s2 = SnowNLP(text2)\n",
    "print(s1.sentiments*100000)\n",
    "print(s2.sentiments)"
   ],
   "metadata": {
    "collapsed": false,
    "pycharm": {
     "name": "#%%\n"
    }
   }
  },
  {
   "cell_type": "code",
   "execution_count": 16,
   "outputs": [],
   "source": [
    "dataframe_1 = data.loc[4450:4469, ['教师教学总体评价及改进意见']]"
   ],
   "metadata": {
    "collapsed": false,
    "pycharm": {
     "name": "#%%\n"
    }
   }
  },
  {
   "cell_type": "code",
   "execution_count": 18,
   "outputs": [],
   "source": [
    "q1 = []\n",
    "for i in dataframe_1.iloc[:,0]:\n",
    "    s = SnowNLP(i)\n",
    "    q1.append(s.sentiments)"
   ],
   "metadata": {
    "collapsed": false,
    "pycharm": {
     "name": "#%%\n"
    }
   }
  },
  {
   "cell_type": "code",
   "execution_count": 25,
   "outputs": [
    {
     "name": "stdout",
     "output_type": "stream",
     "text": [
      "             one\n",
      "0   9.954534e-01\n",
      "1   2.720706e-01\n",
      "2   1.551439e-01\n",
      "3   1.054694e-02\n",
      "4   9.690421e-01\n",
      "5   1.076301e-03\n",
      "6   4.105966e-04\n",
      "7   6.794579e-01\n",
      "8   5.294060e-01\n",
      "9   1.874925e-02\n",
      "10  6.794565e-13\n",
      "11  9.999996e-01\n",
      "12  2.325029e-12\n",
      "13  8.726489e-01\n",
      "14  4.998720e-02\n",
      "15  9.991414e-01\n",
      "16  9.729419e-01\n",
      "17  9.998511e-01\n",
      "18  9.999510e-01\n",
      "19  3.613749e-02\n"
     ]
    }
   ],
   "source": [
    "name=['one']\n",
    "test=pd.DataFrame(columns=name,data=q1)#数据有三列，列名分别为one,two,three\n",
    "print(test)\n",
    "test.to_csv('q1.csv',encoding='gbk')"
   ],
   "metadata": {
    "collapsed": false,
    "pycharm": {
     "name": "#%%\n"
    }
   }
  },
  {
   "cell_type": "code",
   "execution_count": null,
   "outputs": [],
   "source": [],
   "metadata": {
    "collapsed": false,
    "pycharm": {
     "name": "#%%\n"
    }
   }
  }
 ],
 "metadata": {
  "kernelspec": {
   "display_name": "Python 3",
   "language": "python",
   "name": "python3"
  },
  "language_info": {
   "codemirror_mode": {
    "name": "ipython",
    "version": 2
   },
   "file_extension": ".py",
   "mimetype": "text/x-python",
   "name": "python",
   "nbconvert_exporter": "python",
   "pygments_lexer": "ipython2",
   "version": "2.7.6"
  }
 },
 "nbformat": 4,
 "nbformat_minor": 0
}
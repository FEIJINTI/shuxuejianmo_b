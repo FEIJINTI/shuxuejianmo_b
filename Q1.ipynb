{
 "cells": [
  {
   "cell_type": "code",
   "execution_count": 1,
   "metadata": {
    "collapsed": true
   },
   "outputs": [
    {
     "name": "stdout",
     "output_type": "stream",
     "text": [
      "['希望', '本', '无所谓', '有', '，', '也', '无所谓', '无', '，', '这', '就', '像地', '上', '的', '路', '，', '其实地', '上本', '没有', '路', '，', '走', '的', '人', '多', '了', '，', '也', '便', '成', '了', '路', '。']\n"
     ]
    }
   ],
   "source": [
    "from snownlp import SnowNLP\n",
    "\n",
    "# 中文分词\n",
    "text = '希望本无所谓有，也无所谓无，这就像地上的路，其实地上本没有路，走的人多了，也便成了路。'\n",
    "s = SnowNLP(text)\n",
    "print(s.words)"
   ]
  },
  {
   "cell_type": "code",
   "execution_count": 2,
   "outputs": [
    {
     "name": "stdout",
     "output_type": "stream",
     "text": [
      "0.99509716108733\n",
      "0.0033869983750457466\n"
     ]
    }
   ],
   "source": [
    "from snownlp import SnowNLP\n",
    "\n",
    "# 情感分析\n",
    "text1 = '这是我遇见的最棒的一家店，种类多，价格低，更喜欢的是服务质量很好'\n",
    "text2 = '这是我遇到的最差的一家店，种类少，价格贵，更气人的是服务质量很差'\n",
    "s1 = SnowNLP(text1)\n",
    "s2 = SnowNLP(text2)\n",
    "print(s1.sentiments)\n",
    "print(s2.sentiments)"
   ],
   "metadata": {
    "collapsed": false,
    "pycharm": {
     "name": "#%%\n"
    }
   }
  },
  {
   "cell_type": "code",
   "execution_count": 3,
   "outputs": [
    {
     "name": "stdout",
     "output_type": "stream",
     "text": [
      "0.999110280618151\n",
      "0.9999999624048349\n"
     ]
    }
   ],
   "source": [
    "from snownlp import SnowNLP\n",
    "import os\n",
    "data_path = os.path.join(os.path.dirname(os.path.abspath('__file__')),'sentiment.marshal')\n",
    "# 情感分析\n",
    "text1 = \"讲述熟练，但重点不够突出，显得较散。建议：1、突出重点讲述。2、多启发学生交流，加强效果。\"\n",
    "\n",
    "text2 = \"教：教师教学态度端正、严谨，敬业精神强，对所授内容娴熟，就数字图像与视频压缩编码标准相关知识，讲授逻辑严谨，条理清晰。学：学生学习态度端正，不仅听课认真，而且能上讲台演示。建议：进一步讲授其实践意义。\"\n",
    "\n",
    "\n",
    "s1 = SnowNLP(text1)\n",
    "s2 = SnowNLP(text2)\n",
    "print(s1.sentiments)\n",
    "print(s2.sentiments)"
   ],
   "metadata": {
    "collapsed": false,
    "pycharm": {
     "name": "#%%\n"
    }
   }
  },
  {
   "cell_type": "code",
   "execution_count": 3,
   "outputs": [],
   "source": [],
   "metadata": {
    "collapsed": false,
    "pycharm": {
     "name": "#%%\n"
    }
   }
  }
 ],
 "metadata": {
  "kernelspec": {
   "display_name": "Python 3",
   "language": "python",
   "name": "python3"
  },
  "language_info": {
   "codemirror_mode": {
    "name": "ipython",
    "version": 2
   },
   "file_extension": ".py",
   "mimetype": "text/x-python",
   "name": "python",
   "nbconvert_exporter": "python",
   "pygments_lexer": "ipython2",
   "version": "2.7.6"
  }
 },
 "nbformat": 4,
 "nbformat_minor": 0
}